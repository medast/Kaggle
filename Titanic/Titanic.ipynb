{
  "cells": [
    {
      "cell_type": "code",
      "execution_count": 1,
      "id": "f1900162",
      "metadata": {
        "id": "f1900162"
      },
      "outputs": [],
      "source": [
        "import pandas as pd\n",
        "import numpy as np\n",
        "from pandas_profiling import ProfileReport\n",
        "from sklearn import preprocessing\n",
        "from sklearn.tree import DecisionTreeClassifier\n",
        "from sklearn.model_selection import cross_val_score"
      ]
    },
    {
      "cell_type": "markdown",
      "id": "68988294",
      "metadata": {
        "id": "68988294"
      },
      "source": [
        "## Read Data "
      ]
    },
    {
      "cell_type": "code",
      "execution_count": null,
      "id": "6374790a",
      "metadata": {
        "id": "6374790a"
      },
      "outputs": [],
      "source": [
        "df_train = pd.read_csv('./titanic_data/train.csv')\n",
        "df_test = pd.read_csv('./titanic_data/test.csv')"
      ]
    },
    {
      "cell_type": "markdown",
      "id": "c593c9bc",
      "metadata": {
        "id": "c593c9bc"
      },
      "source": [
        "##  Profile Report\n",
        "Is the same of Kaggle data description "
      ]
    },
    {
      "cell_type": "code",
      "execution_count": null,
      "id": "737f6577",
      "metadata": {
        "id": "737f6577"
      },
      "outputs": [],
      "source": [
        "#profile_report = ProfileReport(df_train)\n",
        "#profile_report"
      ]
    },
    {
      "cell_type": "markdown",
      "id": "7e0314f2",
      "metadata": {
        "id": "7e0314f2"
      },
      "source": [
        "# Baseline Model - Decision Tree Classifier 3 features"
      ]
    },
    {
      "cell_type": "markdown",
      "id": "b4d15215",
      "metadata": {
        "id": "b4d15215"
      },
      "source": [
        "##### Transform string features into categorical number features"
      ]
    },
    {
      "cell_type": "code",
      "execution_count": null,
      "id": "b1a652c6",
      "metadata": {
        "id": "b1a652c6"
      },
      "outputs": [],
      "source": [
        "df_train['Sex'] = preprocessing.LabelEncoder().fit_transform(df_train['Sex'])\n",
        "df_train['Embarked'] = preprocessing.LabelEncoder().fit_transform(df_train['Embarked'])\n",
        "df_test['Sex'] = preprocessing.LabelEncoder().fit_transform(df_test['Sex'])\n",
        "df_test['Embarked'] = preprocessing.LabelEncoder().fit_transform(df_test['Embarked'])"
      ]
    },
    {
      "cell_type": "code",
      "execution_count": null,
      "id": "0d74d129",
      "metadata": {
        "id": "0d74d129"
      },
      "outputs": [],
      "source": [
        "X = df_train[['Sex','Pclass','Embarked']]\n",
        "y = df_train['Survived']"
      ]
    },
    {
      "cell_type": "code",
      "execution_count": null,
      "id": "160364b9",
      "metadata": {
        "id": "160364b9",
        "outputId": "ebb06e7e-4579-4ccf-8b4f-723ee687a043"
      },
      "outputs": [
        {
          "data": {
            "text/plain": [
              "array([0.82222222, 0.78651685, 0.78651685, 0.85393258, 0.86516854,\n",
              "       0.79775281, 0.80898876, 0.76404494, 0.83146067, 0.79775281])"
            ]
          },
          "execution_count": 34,
          "metadata": {},
          "output_type": "execute_result"
        }
      ],
      "source": [
        "clf = DecisionTreeClassifier(random_state=7)\n",
        "scores = cross_val_score(clf, X, y, cv=10)\n",
        "scores"
      ]
    },
    {
      "cell_type": "markdown",
      "id": "7ab7bfd7",
      "metadata": {
        "id": "7ab7bfd7"
      },
      "source": [
        "## Cose"
      ]
    },
    {
      "cell_type": "code",
      "execution_count": null,
      "id": "6bc57260",
      "metadata": {
        "id": "6bc57260"
      },
      "outputs": [],
      "source": [
        "#fit the model with all train data\n",
        "\n",
        "clf.fit(X,y)\n",
        "\n",
        "#Predict over the test dataframe\n",
        "\n",
        "predictions_baseline = clf.predict(df_test[['Sex','Pclass','Embarked']])"
      ]
    },
    {
      "cell_type": "markdown",
      "id": "2ce05281",
      "metadata": {
        "id": "2ce05281"
      },
      "source": [
        "## Submissions"
      ]
    },
    {
      "cell_type": "code",
      "execution_count": null,
      "id": "0a6b8089",
      "metadata": {
        "id": "0a6b8089"
      },
      "outputs": [],
      "source": [
        "#prepares a dataframe to be submitted\n",
        "\n",
        "df_submission = pd.DataFrame({'PassengerId':df_test['PassengerId'], 'Survived':predictions_baseline})\n",
        "\n",
        "#data types must be exactly the same as the training data\n",
        "\n",
        "df_submission.Survived = df_submission.Survived.astype(int)\n",
        "\n",
        "#only saves the two columns into the submission csv file\n",
        "\n",
        "df_submission.to_csv( './results/baseline_submission.csv',index=False )"
      ]
    },
    {
      "cell_type": "markdown",
      "id": "5382f4d8",
      "metadata": {
        "id": "5382f4d8"
      },
      "source": [
        "# Model 1 - Decision Tree Classifier all features"
      ]
    },
    {
      "cell_type": "code",
      "execution_count": null,
      "id": "d5f41e37",
      "metadata": {
        "id": "d5f41e37",
        "outputId": "b4fea67d-fe61-46e9-c49e-e4fb449265a4"
      },
      "outputs": [
        {
          "name": "stdout",
          "output_type": "stream",
          "text": [
            "<class 'pandas.core.frame.DataFrame'>\n",
            "RangeIndex: 891 entries, 0 to 890\n",
            "Data columns (total 6 columns):\n",
            " #   Column    Non-Null Count  Dtype  \n",
            "---  ------    --------------  -----  \n",
            " 0   Sex       891 non-null    int32  \n",
            " 1   Embarked  891 non-null    int32  \n",
            " 2   Age       891 non-null    float64\n",
            " 3   Pclass    891 non-null    int64  \n",
            " 4   SibSp     891 non-null    int64  \n",
            " 5   Parch     891 non-null    int64  \n",
            "dtypes: float64(1), int32(2), int64(3)\n",
            "memory usage: 34.9 KB\n"
          ]
        }
      ],
      "source": [
        "mean_value=df_train['Age'].mean()\n",
        "\n",
        "df_train['Sex'] = preprocessing.LabelEncoder().fit_transform(df_train['Sex'])\n",
        "df_train['Embarked'] = preprocessing.LabelEncoder().fit_transform(df_train['Embarked'])\n",
        "df_train['Age'].fillna(value=mean_value, inplace=True)\n",
        "df_train['Age'] = df_train['Age'] - mean_value\n",
        "\n",
        "X = df_train[['Sex','Embarked','Age','Pclass','SibSp','Parch']]\n",
        "y = df_train['Survived']\n",
        "\n",
        "#Same for test\n",
        "\n",
        "df_test['Sex'] = preprocessing.LabelEncoder().fit_transform(df_test['Sex'])\n",
        "df_test['Embarked'] = preprocessing.LabelEncoder().fit_transform(df_test['Embarked'])\n",
        "df_test['Age'].fillna(value=mean_value, inplace=True)\n",
        "df_test['Age'] = df_test['Age'] - mean_value\n",
        "X_test = df_test[['Sex','Embarked','Age','Pclass','SibSp','Parch']]\n",
        "\n",
        "X.info(True)"
      ]
    },
    {
      "cell_type": "code",
      "execution_count": null,
      "id": "c8787183",
      "metadata": {
        "id": "c8787183"
      },
      "outputs": [],
      "source": [
        "clf = DecisionTreeClassifier(random_state=7)\n",
        "\n",
        "clf.fit(X,y)\n",
        "\n",
        "predictions_model_1 = clf.predict(X_test)"
      ]
    },
    {
      "cell_type": "code",
      "execution_count": null,
      "id": "d99744b4",
      "metadata": {
        "id": "d99744b4"
      },
      "outputs": [],
      "source": [
        "#prepares a dataframe to be submitted\n",
        "\n",
        "df_submission = pd.DataFrame({'PassengerId':df_test['PassengerId'], 'Survived':predictions_model_1})\n",
        "\n",
        "#data types must be exactly the same as the training data\n",
        "\n",
        "df_submission.Survived = df_submission.Survived.astype(int)\n",
        "\n",
        "#only saves the two columns into the submission csv file\n",
        "\n",
        "df_submission.to_csv( './results/model_1_submission.csv',index=False )"
      ]
    },
    {
      "cell_type": "markdown",
      "id": "2a197bf5",
      "metadata": {
        "id": "2a197bf5"
      },
      "source": [
        "# Model 2 - Neural Network"
      ]
    },
    {
      "cell_type": "code",
      "execution_count": 13,
      "id": "d820eb2d",
      "metadata": {
        "id": "d820eb2d"
      },
      "outputs": [],
      "source": [
        "import tensorflow as tf"
      ]
    },
    {
      "cell_type": "code",
      "execution_count": 14,
      "id": "dc3804ec",
      "metadata": {
        "id": "dc3804ec"
      },
      "outputs": [],
      "source": [
        "mean_value=df_train['Age'].mean()\n",
        "\n",
        "df_train['Sex'] = preprocessing.LabelEncoder().fit_transform(df_train['Sex'])\n",
        "df_train['Embarked'] = preprocessing.LabelEncoder().fit_transform(df_train['Embarked'])\n",
        "df_train['Age'].fillna(value=mean_value, inplace=True)\n",
        "df_train['Age'] = df_train['Age'] - mean_value\n",
        "\n",
        "X = df_train[['Sex','Embarked','Age','Pclass','SibSp','Parch']]\n",
        "y = df_train['Survived']\n",
        "\n",
        "#Same for test\n",
        "\n",
        "df_test['Sex'] = preprocessing.LabelEncoder().fit_transform(df_test['Sex'])\n",
        "df_test['Embarked'] = preprocessing.LabelEncoder().fit_transform(df_test['Embarked'])\n",
        "df_test['Age'].fillna(value=mean_value, inplace=True)\n",
        "df_test['Age'] = df_test['Age'] - mean_value\n",
        "X_test = df_test[['Sex','Embarked','Age','Pclass','SibSp','Parch']]"
      ]
    },
    {
      "cell_type": "code",
      "source": [
        "X = X.to_numpy()\n",
        "y = y.to_numpy()\n",
        "X_test = X_test.to_numpy()"
      ],
      "metadata": {
        "id": "Y8QPNAxwtueC"
      },
      "id": "Y8QPNAxwtueC",
      "execution_count": 15,
      "outputs": []
    },
    {
      "cell_type": "code",
      "execution_count": null,
      "id": "ffe2ac10",
      "metadata": {
        "id": "ffe2ac10"
      },
      "outputs": [],
      "source": [
        "model_2 = tf.keras.Sequential([\n",
        "    tf.keras.layers.Dense(10000, input_shape = (6,)),\n",
        "    tf.keras.layers.Dense(10000, activation='relu'),\n",
        "    tf.keras.layers.Dense(1, activation='sigmoid')\n",
        "])\n",
        "model_2.summary()\n",
        "model_2.compile(loss='binary_crossentropy',optimizer='adam',metrics=['accuracy'])\n",
        "history = model_2.fit(X, y, epochs=200)"
      ]
    },
    {
      "cell_type": "code",
      "source": [
        "test_predict = model_2.predict(X_test)"
      ],
      "metadata": {
        "id": "zVrILZhSw_vS"
      },
      "id": "zVrILZhSw_vS",
      "execution_count": 29,
      "outputs": []
    },
    {
      "cell_type": "code",
      "source": [
        "from sklearn.preprocessing import Binarizer\n",
        "binarizer=Binarizer(threshold=0.5)\n",
        "test_predict_result=binarizer.fit_transform(test_predict)\n",
        "test_predict_result=test_predict_result.astype(np.int32)\n",
        "test_predict_result=tf.squeeze(test_predict_result)"
      ],
      "metadata": {
        "id": "Lc_F8_gwxQlO"
      },
      "id": "Lc_F8_gwxQlO",
      "execution_count": 33,
      "outputs": []
    },
    {
      "cell_type": "code",
      "source": [
        "#prepares a dataframe to be submitted\n",
        "\n",
        "df_submission = pd.DataFrame({'PassengerId':df_test['PassengerId'], 'Survived':test_predict_result})\n",
        "\n",
        "#data types must be exactly the same as the training data\n",
        "\n",
        "df_submission.Survived = df_submission.Survived.astype(int)\n",
        "\n",
        "#only saves the two columns into the submission csv file\n",
        "\n",
        "df_submission.to_csv( './nn_submission.csv',index=False )"
      ],
      "metadata": {
        "id": "V1iKSfldxZEV"
      },
      "id": "V1iKSfldxZEV",
      "execution_count": 35,
      "outputs": []
    },
    {
      "cell_type": "code",
      "source": [
        ""
      ],
      "metadata": {
        "id": "j1NHUjT2xf8A"
      },
      "id": "j1NHUjT2xf8A",
      "execution_count": null,
      "outputs": []
    }
  ],
  "metadata": {
    "kernelspec": {
      "display_name": "Python 3 (ipykernel)",
      "language": "python",
      "name": "python3"
    },
    "language_info": {
      "codemirror_mode": {
        "name": "ipython",
        "version": 3
      },
      "file_extension": ".py",
      "mimetype": "text/x-python",
      "name": "python",
      "nbconvert_exporter": "python",
      "pygments_lexer": "ipython3",
      "version": "3.10.4"
    },
    "colab": {
      "name": "Titanic.ipynb",
      "provenance": []
    },
    "accelerator": "GPU"
  },
  "nbformat": 4,
  "nbformat_minor": 5
}
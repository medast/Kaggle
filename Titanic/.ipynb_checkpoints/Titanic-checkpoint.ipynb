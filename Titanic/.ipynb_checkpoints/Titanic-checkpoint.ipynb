{
 "cells": [
  {
   "cell_type": "code",
   "execution_count": 17,
   "id": "f1900162",
   "metadata": {},
   "outputs": [],
   "source": [
    "import pandas as pd\n",
    "import numpy as np\n",
    "from pandas_profiling import ProfileReport\n",
    "from sklearn import preprocessing\n",
    "from sklearn.tree import DecisionTreeClassifier\n",
    "from sklearn.model_selection import cross_val_score"
   ]
  },
  {
   "cell_type": "markdown",
   "id": "68988294",
   "metadata": {},
   "source": [
    "## Read Data "
   ]
  },
  {
   "cell_type": "code",
   "execution_count": 60,
   "id": "6374790a",
   "metadata": {},
   "outputs": [],
   "source": [
    "df_train = pd.read_csv('./titanic_data/train.csv')\n",
    "df_test = pd.read_csv('./titanic_data/test.csv')"
   ]
  },
  {
   "cell_type": "markdown",
   "id": "c593c9bc",
   "metadata": {},
   "source": [
    "##  Profile Report\n",
    "Is the same of Kaggle data description "
   ]
  },
  {
   "cell_type": "code",
   "execution_count": 30,
   "id": "737f6577",
   "metadata": {},
   "outputs": [],
   "source": [
    "#profile_report = ProfileReport(df_train)\n",
    "#profile_report"
   ]
  },
  {
   "cell_type": "markdown",
   "id": "7e0314f2",
   "metadata": {},
   "source": [
    "# Baseline Model - Decision Tree Classifier 3 features"
   ]
  },
  {
   "cell_type": "markdown",
   "id": "b4d15215",
   "metadata": {},
   "source": [
    "##### Transform string features into categorical number features"
   ]
  },
  {
   "cell_type": "code",
   "execution_count": 32,
   "id": "b1a652c6",
   "metadata": {},
   "outputs": [],
   "source": [
    "df_train['Sex'] = preprocessing.LabelEncoder().fit_transform(df_train['Sex'])\n",
    "df_train['Embarked'] = preprocessing.LabelEncoder().fit_transform(df_train['Embarked'])\n",
    "df_test['Sex'] = preprocessing.LabelEncoder().fit_transform(df_test['Sex'])\n",
    "df_test['Embarked'] = preprocessing.LabelEncoder().fit_transform(df_test['Embarked'])"
   ]
  },
  {
   "cell_type": "code",
   "execution_count": 52,
   "id": "0d74d129",
   "metadata": {},
   "outputs": [],
   "source": [
    "X = df_train[['Sex','Pclass','Embarked']]\n",
    "y = df_train['Survived']"
   ]
  },
  {
   "cell_type": "code",
   "execution_count": 34,
   "id": "160364b9",
   "metadata": {},
   "outputs": [
    {
     "data": {
      "text/plain": [
       "array([0.82222222, 0.78651685, 0.78651685, 0.85393258, 0.86516854,\n",
       "       0.79775281, 0.80898876, 0.76404494, 0.83146067, 0.79775281])"
      ]
     },
     "execution_count": 34,
     "metadata": {},
     "output_type": "execute_result"
    }
   ],
   "source": [
    "clf = DecisionTreeClassifier(random_state=7)\n",
    "scores = cross_val_score(clf, X, y, cv=10)\n",
    "scores"
   ]
  },
  {
   "cell_type": "markdown",
   "id": "7ab7bfd7",
   "metadata": {},
   "source": [
    "## Cose"
   ]
  },
  {
   "cell_type": "code",
   "execution_count": 35,
   "id": "6bc57260",
   "metadata": {},
   "outputs": [],
   "source": [
    "#fit the model with all train data\n",
    "\n",
    "clf.fit(X,y)\n",
    "\n",
    "#Predict over the test dataframe\n",
    "\n",
    "predictions_baseline = clf.predict(df_test[['Sex','Pclass','Embarked']])"
   ]
  },
  {
   "cell_type": "markdown",
   "id": "2ce05281",
   "metadata": {},
   "source": [
    "## Submissions"
   ]
  },
  {
   "cell_type": "code",
   "execution_count": 37,
   "id": "0a6b8089",
   "metadata": {},
   "outputs": [],
   "source": [
    "#prepares a dataframe to be submitted\n",
    "\n",
    "df_submission = pd.DataFrame({'PassengerId':df_test['PassengerId'], 'Survived':predictions_baseline})\n",
    "\n",
    "#data types must be exactly the same as the training data\n",
    "\n",
    "df_submission.Survived = df_submission.Survived.astype(int)\n",
    "\n",
    "#only saves the two columns into the submission csv file\n",
    "\n",
    "df_submission.to_csv( './results/baseline_submission.csv',index=False )"
   ]
  },
  {
   "cell_type": "markdown",
   "id": "5382f4d8",
   "metadata": {},
   "source": [
    "# Model 1 - Decision Tree Classifier all features"
   ]
  },
  {
   "cell_type": "code",
   "execution_count": 61,
   "id": "d5f41e37",
   "metadata": {},
   "outputs": [
    {
     "name": "stdout",
     "output_type": "stream",
     "text": [
      "<class 'pandas.core.frame.DataFrame'>\n",
      "RangeIndex: 891 entries, 0 to 890\n",
      "Data columns (total 6 columns):\n",
      " #   Column    Non-Null Count  Dtype  \n",
      "---  ------    --------------  -----  \n",
      " 0   Sex       891 non-null    int32  \n",
      " 1   Embarked  891 non-null    int32  \n",
      " 2   Age       891 non-null    float64\n",
      " 3   Pclass    891 non-null    int64  \n",
      " 4   SibSp     891 non-null    int64  \n",
      " 5   Parch     891 non-null    int64  \n",
      "dtypes: float64(1), int32(2), int64(3)\n",
      "memory usage: 34.9 KB\n"
     ]
    }
   ],
   "source": [
    "mean_value=df_train['Age'].mean()\n",
    "\n",
    "df_train['Sex'] = preprocessing.LabelEncoder().fit_transform(df_train['Sex'])\n",
    "df_train['Embarked'] = preprocessing.LabelEncoder().fit_transform(df_train['Embarked'])\n",
    "df_train['Age'].fillna(value=mean_value, inplace=True)\n",
    "df_train['Age'] = df_train['Age'] - mean_value\n",
    "\n",
    "X = df_train[['Sex','Embarked','Age','Pclass','SibSp','Parch']]\n",
    "y = df_train['Survived']\n",
    "\n",
    "#Same for test\n",
    "\n",
    "df_test['Sex'] = preprocessing.LabelEncoder().fit_transform(df_test['Sex'])\n",
    "df_test['Embarked'] = preprocessing.LabelEncoder().fit_transform(df_test['Embarked'])\n",
    "df_test['Age'].fillna(value=mean_value, inplace=True)\n",
    "df_test['Age'] = df_test['Age'] - mean_value\n",
    "X_test = df_test[['Sex','Embarked','Age','Pclass','SibSp','Parch']]\n",
    "\n",
    "X.info(True)"
   ]
  },
  {
   "cell_type": "code",
   "execution_count": 63,
   "id": "c8787183",
   "metadata": {},
   "outputs": [],
   "source": [
    "clf = DecisionTreeClassifier(random_state=7)\n",
    "\n",
    "clf.fit(X,y)\n",
    "\n",
    "predictions_model_1 = clf.predict(X_test)"
   ]
  },
  {
   "cell_type": "code",
   "execution_count": 64,
   "id": "d99744b4",
   "metadata": {},
   "outputs": [],
   "source": [
    "#prepares a dataframe to be submitted\n",
    "\n",
    "df_submission = pd.DataFrame({'PassengerId':df_test['PassengerId'], 'Survived':predictions_model_1})\n",
    "\n",
    "#data types must be exactly the same as the training data\n",
    "\n",
    "df_submission.Survived = df_submission.Survived.astype(int)\n",
    "\n",
    "#only saves the two columns into the submission csv file\n",
    "\n",
    "df_submission.to_csv( './results/model_1_submission.csv',index=False )"
   ]
  },
  {
   "cell_type": "markdown",
   "id": "2a197bf5",
   "metadata": {},
   "source": [
    "# Model 2 - Neural Network"
   ]
  },
  {
   "cell_type": "code",
   "execution_count": 66,
   "id": "d820eb2d",
   "metadata": {},
   "outputs": [
    {
     "ename": "ModuleNotFoundError",
     "evalue": "No module named 'tensorflow'",
     "output_type": "error",
     "traceback": [
      "\u001b[1;31m---------------------------------------------------------------------------\u001b[0m",
      "\u001b[1;31mModuleNotFoundError\u001b[0m                       Traceback (most recent call last)",
      "Input \u001b[1;32mIn [66]\u001b[0m, in \u001b[0;36m<cell line: 1>\u001b[1;34m()\u001b[0m\n\u001b[1;32m----> 1\u001b[0m \u001b[38;5;28;01mimport\u001b[39;00m \u001b[38;5;21;01mtensorflow\u001b[39;00m \u001b[38;5;28;01mas\u001b[39;00m \u001b[38;5;21;01mtf\u001b[39;00m\n",
      "\u001b[1;31mModuleNotFoundError\u001b[0m: No module named 'tensorflow'"
     ]
    }
   ],
   "source": [
    "import tensorflow as tf"
   ]
  },
  {
   "cell_type": "code",
   "execution_count": 67,
   "id": "dc3804ec",
   "metadata": {},
   "outputs": [],
   "source": [
    "mean_value=df_train['Age'].mean()\n",
    "\n",
    "df_train['Sex'] = preprocessing.LabelEncoder().fit_transform(df_train['Sex'])\n",
    "df_train['Embarked'] = preprocessing.LabelEncoder().fit_transform(df_train['Embarked'])\n",
    "df_train['Age'].fillna(value=mean_value, inplace=True)\n",
    "df_train['Age'] = df_train['Age'] - mean_value\n",
    "\n",
    "X = df_train[['Sex','Embarked','Age','Pclass','SibSp','Parch']]\n",
    "y = df_train['Survived']\n",
    "\n",
    "#Same for test\n",
    "\n",
    "df_test['Sex'] = preprocessing.LabelEncoder().fit_transform(df_test['Sex'])\n",
    "df_test['Embarked'] = preprocessing.LabelEncoder().fit_transform(df_test['Embarked'])\n",
    "df_test['Age'].fillna(value=mean_value, inplace=True)\n",
    "df_test['Age'] = df_test['Age'] - mean_value\n",
    "X_test = df_test[['Sex','Embarked','Age','Pclass','SibSp','Parch']]"
   ]
  },
  {
   "cell_type": "code",
   "execution_count": null,
   "id": "ffe2ac10",
   "metadata": {},
   "outputs": [],
   "source": [
    "model_2 = tf.Sequential([\n",
    "    tf.keras.layers.Dense(1000, input_shape = )\n",
    "])"
   ]
  }
 ],
 "metadata": {
  "kernelspec": {
   "display_name": "Python 3 (ipykernel)",
   "language": "python",
   "name": "python3"
  },
  "language_info": {
   "codemirror_mode": {
    "name": "ipython",
    "version": 3
   },
   "file_extension": ".py",
   "mimetype": "text/x-python",
   "name": "python",
   "nbconvert_exporter": "python",
   "pygments_lexer": "ipython3",
   "version": "3.10.4"
  }
 },
 "nbformat": 4,
 "nbformat_minor": 5
}
